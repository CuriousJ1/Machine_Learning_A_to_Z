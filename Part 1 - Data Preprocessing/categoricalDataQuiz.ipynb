{
 "cells": [
  {
   "cell_type": "markdown",
   "source": [
    "# Categorical Data Exercise"
   ],
   "metadata": {
    "collapsed": false
   }
  },
  {
   "cell_type": "code",
   "execution_count": 4,
   "outputs": [],
   "source": [
    "# Importing the necessary libraries\n",
    "import numpy as np\n",
    "import matplotlib as plt\n",
    "import pandas as pd"
   ],
   "metadata": {
    "collapsed": false,
    "ExecuteTime": {
     "end_time": "2023-07-16T02:18:14.598986Z",
     "start_time": "2023-07-16T02:18:13.110346Z"
    }
   }
  },
  {
   "cell_type": "code",
   "execution_count": 5,
   "outputs": [],
   "source": [
    "# Load the dataset\n",
    "df = pd.read_csv(\"train.csv\")"
   ],
   "metadata": {
    "collapsed": false,
    "ExecuteTime": {
     "end_time": "2023-07-16T02:18:14.621681Z",
     "start_time": "2023-07-16T02:18:14.603011Z"
    }
   }
  },
  {
   "cell_type": "code",
   "execution_count": 6,
   "outputs": [],
   "source": [
    "# Data checks"
   ],
   "metadata": {
    "collapsed": false,
    "ExecuteTime": {
     "end_time": "2023-07-16T02:18:14.629504Z",
     "start_time": "2023-07-16T02:18:14.622208Z"
    }
   }
  },
  {
   "cell_type": "code",
   "execution_count": 39,
   "outputs": [
    {
     "data": {
      "text/plain": "   PassengerId  Survived  Pclass  \\\n0            1         0       3   \n1            2         1       1   \n2            3         1       3   \n3            4         1       1   \n4            5         0       3   \n\n                                                Name     Sex   Age  SibSp  \\\n0                            Braund, Mr. Owen Harris    male  22.0      1   \n1  Cumings, Mrs. John Bradley (Florence Briggs Th...  female  38.0      1   \n2                             Heikkinen, Miss. Laina  female  26.0      0   \n3       Futrelle, Mrs. Jacques Heath (Lily May Peel)  female  35.0      1   \n4                           Allen, Mr. William Henry    male  35.0      0   \n\n   Parch            Ticket     Fare Cabin Embarked  \n0      0         A/5 21171   7.2500   NaN        S  \n1      0          PC 17599  71.2833   C85        C  \n2      0  STON/O2. 3101282   7.9250   NaN        S  \n3      0            113803  53.1000  C123        S  \n4      0            373450   8.0500   NaN        S  ",
      "text/html": "<div>\n<style scoped>\n    .dataframe tbody tr th:only-of-type {\n        vertical-align: middle;\n    }\n\n    .dataframe tbody tr th {\n        vertical-align: top;\n    }\n\n    .dataframe thead th {\n        text-align: right;\n    }\n</style>\n<table border=\"1\" class=\"dataframe\">\n  <thead>\n    <tr style=\"text-align: right;\">\n      <th></th>\n      <th>PassengerId</th>\n      <th>Survived</th>\n      <th>Pclass</th>\n      <th>Name</th>\n      <th>Sex</th>\n      <th>Age</th>\n      <th>SibSp</th>\n      <th>Parch</th>\n      <th>Ticket</th>\n      <th>Fare</th>\n      <th>Cabin</th>\n      <th>Embarked</th>\n    </tr>\n  </thead>\n  <tbody>\n    <tr>\n      <th>0</th>\n      <td>1</td>\n      <td>0</td>\n      <td>3</td>\n      <td>Braund, Mr. Owen Harris</td>\n      <td>male</td>\n      <td>22.0</td>\n      <td>1</td>\n      <td>0</td>\n      <td>A/5 21171</td>\n      <td>7.2500</td>\n      <td>NaN</td>\n      <td>S</td>\n    </tr>\n    <tr>\n      <th>1</th>\n      <td>2</td>\n      <td>1</td>\n      <td>1</td>\n      <td>Cumings, Mrs. John Bradley (Florence Briggs Th...</td>\n      <td>female</td>\n      <td>38.0</td>\n      <td>1</td>\n      <td>0</td>\n      <td>PC 17599</td>\n      <td>71.2833</td>\n      <td>C85</td>\n      <td>C</td>\n    </tr>\n    <tr>\n      <th>2</th>\n      <td>3</td>\n      <td>1</td>\n      <td>3</td>\n      <td>Heikkinen, Miss. Laina</td>\n      <td>female</td>\n      <td>26.0</td>\n      <td>0</td>\n      <td>0</td>\n      <td>STON/O2. 3101282</td>\n      <td>7.9250</td>\n      <td>NaN</td>\n      <td>S</td>\n    </tr>\n    <tr>\n      <th>3</th>\n      <td>4</td>\n      <td>1</td>\n      <td>1</td>\n      <td>Futrelle, Mrs. Jacques Heath (Lily May Peel)</td>\n      <td>female</td>\n      <td>35.0</td>\n      <td>1</td>\n      <td>0</td>\n      <td>113803</td>\n      <td>53.1000</td>\n      <td>C123</td>\n      <td>S</td>\n    </tr>\n    <tr>\n      <th>4</th>\n      <td>5</td>\n      <td>0</td>\n      <td>3</td>\n      <td>Allen, Mr. William Henry</td>\n      <td>male</td>\n      <td>35.0</td>\n      <td>0</td>\n      <td>0</td>\n      <td>373450</td>\n      <td>8.0500</td>\n      <td>NaN</td>\n      <td>S</td>\n    </tr>\n  </tbody>\n</table>\n</div>"
     },
     "execution_count": 39,
     "metadata": {},
     "output_type": "execute_result"
    }
   ],
   "source": [
    "# checks the heads of the data set\n",
    "df.head()"
   ],
   "metadata": {
    "collapsed": false,
    "ExecuteTime": {
     "end_time": "2023-07-16T02:30:34.689723Z",
     "start_time": "2023-07-16T02:30:34.682854Z"
    }
   }
  },
  {
   "cell_type": "code",
   "execution_count": 8,
   "outputs": [
    {
     "data": {
      "text/plain": "PassengerId      0\nSurvived         0\nPclass           0\nName             0\nSex              0\nAge            177\nSibSp            0\nParch            0\nTicket           0\nFare             0\nCabin          687\nEmbarked         2\ndtype: int64"
     },
     "execution_count": 8,
     "metadata": {},
     "output_type": "execute_result"
    }
   ],
   "source": [
    "# Calculates the sum of all the null values in all the fields(columns)\n",
    "# Can see age has a bunch of null values\n",
    "df.isnull().sum()"
   ],
   "metadata": {
    "collapsed": false,
    "ExecuteTime": {
     "end_time": "2023-07-16T02:18:14.662508Z",
     "start_time": "2023-07-16T02:18:14.654260Z"
    }
   }
  },
  {
   "cell_type": "code",
   "execution_count": 9,
   "outputs": [
    {
     "data": {
      "text/plain": "int64      5\nobject     5\nfloat64    2\ndtype: int64"
     },
     "execution_count": 9,
     "metadata": {},
     "output_type": "execute_result"
    }
   ],
   "source": [
    "# Additional check if any of the numeric data is not string\n",
    "df.dtypes.value_counts()"
   ],
   "metadata": {
    "collapsed": false,
    "ExecuteTime": {
     "end_time": "2023-07-16T02:18:14.679144Z",
     "start_time": "2023-07-16T02:18:14.668994Z"
    }
   }
  },
  {
   "cell_type": "code",
   "execution_count": 10,
   "outputs": [
    {
     "data": {
      "text/plain": "     PassengerId  Survived  Pclass                                      Name  \\\n0              1         0       3                   Braund, Mr. Owen Harris   \n2              3         1       3                    Heikkinen, Miss. Laina   \n4              5         0       3                  Allen, Mr. William Henry   \n5              6         0       3                          Moran, Mr. James   \n7              8         0       3            Palsson, Master. Gosta Leonard   \n..           ...       ...     ...                                       ...   \n884          885         0       3                    Sutehall, Mr. Henry Jr   \n885          886         0       3      Rice, Mrs. William (Margaret Norton)   \n886          887         0       2                     Montvila, Rev. Juozas   \n888          889         0       3  Johnston, Miss. Catherine Helen \"Carrie\"   \n890          891         0       3                       Dooley, Mr. Patrick   \n\n        Sex   Age  SibSp  Parch            Ticket     Fare Cabin Embarked  \n0      male  22.0      1      0         A/5 21171   7.2500   NaN        S  \n2    female  26.0      0      0  STON/O2. 3101282   7.9250   NaN        S  \n4      male  35.0      0      0            373450   8.0500   NaN        S  \n5      male   NaN      0      0            330877   8.4583   NaN        Q  \n7      male   2.0      3      1            349909  21.0750   NaN        S  \n..      ...   ...    ...    ...               ...      ...   ...      ...  \n884    male  25.0      0      0   SOTON/OQ 392076   7.0500   NaN        S  \n885  female  39.0      0      5            382652  29.1250   NaN        Q  \n886    male  27.0      0      0            211536  13.0000   NaN        S  \n888  female   NaN      1      2        W./C. 6607  23.4500   NaN        S  \n890    male  32.0      0      0            370376   7.7500   NaN        Q  \n\n[708 rows x 12 columns]",
      "text/html": "<div>\n<style scoped>\n    .dataframe tbody tr th:only-of-type {\n        vertical-align: middle;\n    }\n\n    .dataframe tbody tr th {\n        vertical-align: top;\n    }\n\n    .dataframe thead th {\n        text-align: right;\n    }\n</style>\n<table border=\"1\" class=\"dataframe\">\n  <thead>\n    <tr style=\"text-align: right;\">\n      <th></th>\n      <th>PassengerId</th>\n      <th>Survived</th>\n      <th>Pclass</th>\n      <th>Name</th>\n      <th>Sex</th>\n      <th>Age</th>\n      <th>SibSp</th>\n      <th>Parch</th>\n      <th>Ticket</th>\n      <th>Fare</th>\n      <th>Cabin</th>\n      <th>Embarked</th>\n    </tr>\n  </thead>\n  <tbody>\n    <tr>\n      <th>0</th>\n      <td>1</td>\n      <td>0</td>\n      <td>3</td>\n      <td>Braund, Mr. Owen Harris</td>\n      <td>male</td>\n      <td>22.0</td>\n      <td>1</td>\n      <td>0</td>\n      <td>A/5 21171</td>\n      <td>7.2500</td>\n      <td>NaN</td>\n      <td>S</td>\n    </tr>\n    <tr>\n      <th>2</th>\n      <td>3</td>\n      <td>1</td>\n      <td>3</td>\n      <td>Heikkinen, Miss. Laina</td>\n      <td>female</td>\n      <td>26.0</td>\n      <td>0</td>\n      <td>0</td>\n      <td>STON/O2. 3101282</td>\n      <td>7.9250</td>\n      <td>NaN</td>\n      <td>S</td>\n    </tr>\n    <tr>\n      <th>4</th>\n      <td>5</td>\n      <td>0</td>\n      <td>3</td>\n      <td>Allen, Mr. William Henry</td>\n      <td>male</td>\n      <td>35.0</td>\n      <td>0</td>\n      <td>0</td>\n      <td>373450</td>\n      <td>8.0500</td>\n      <td>NaN</td>\n      <td>S</td>\n    </tr>\n    <tr>\n      <th>5</th>\n      <td>6</td>\n      <td>0</td>\n      <td>3</td>\n      <td>Moran, Mr. James</td>\n      <td>male</td>\n      <td>NaN</td>\n      <td>0</td>\n      <td>0</td>\n      <td>330877</td>\n      <td>8.4583</td>\n      <td>NaN</td>\n      <td>Q</td>\n    </tr>\n    <tr>\n      <th>7</th>\n      <td>8</td>\n      <td>0</td>\n      <td>3</td>\n      <td>Palsson, Master. Gosta Leonard</td>\n      <td>male</td>\n      <td>2.0</td>\n      <td>3</td>\n      <td>1</td>\n      <td>349909</td>\n      <td>21.0750</td>\n      <td>NaN</td>\n      <td>S</td>\n    </tr>\n    <tr>\n      <th>...</th>\n      <td>...</td>\n      <td>...</td>\n      <td>...</td>\n      <td>...</td>\n      <td>...</td>\n      <td>...</td>\n      <td>...</td>\n      <td>...</td>\n      <td>...</td>\n      <td>...</td>\n      <td>...</td>\n      <td>...</td>\n    </tr>\n    <tr>\n      <th>884</th>\n      <td>885</td>\n      <td>0</td>\n      <td>3</td>\n      <td>Sutehall, Mr. Henry Jr</td>\n      <td>male</td>\n      <td>25.0</td>\n      <td>0</td>\n      <td>0</td>\n      <td>SOTON/OQ 392076</td>\n      <td>7.0500</td>\n      <td>NaN</td>\n      <td>S</td>\n    </tr>\n    <tr>\n      <th>885</th>\n      <td>886</td>\n      <td>0</td>\n      <td>3</td>\n      <td>Rice, Mrs. William (Margaret Norton)</td>\n      <td>female</td>\n      <td>39.0</td>\n      <td>0</td>\n      <td>5</td>\n      <td>382652</td>\n      <td>29.1250</td>\n      <td>NaN</td>\n      <td>Q</td>\n    </tr>\n    <tr>\n      <th>886</th>\n      <td>887</td>\n      <td>0</td>\n      <td>2</td>\n      <td>Montvila, Rev. Juozas</td>\n      <td>male</td>\n      <td>27.0</td>\n      <td>0</td>\n      <td>0</td>\n      <td>211536</td>\n      <td>13.0000</td>\n      <td>NaN</td>\n      <td>S</td>\n    </tr>\n    <tr>\n      <th>888</th>\n      <td>889</td>\n      <td>0</td>\n      <td>3</td>\n      <td>Johnston, Miss. Catherine Helen \"Carrie\"</td>\n      <td>female</td>\n      <td>NaN</td>\n      <td>1</td>\n      <td>2</td>\n      <td>W./C. 6607</td>\n      <td>23.4500</td>\n      <td>NaN</td>\n      <td>S</td>\n    </tr>\n    <tr>\n      <th>890</th>\n      <td>891</td>\n      <td>0</td>\n      <td>3</td>\n      <td>Dooley, Mr. Patrick</td>\n      <td>male</td>\n      <td>32.0</td>\n      <td>0</td>\n      <td>0</td>\n      <td>370376</td>\n      <td>7.7500</td>\n      <td>NaN</td>\n      <td>Q</td>\n    </tr>\n  </tbody>\n</table>\n<p>708 rows × 12 columns</p>\n</div>"
     },
     "execution_count": 10,
     "metadata": {},
     "output_type": "execute_result"
    }
   ],
   "source": [
    "df[df.isna().any(axis=1)]"
   ],
   "metadata": {
    "collapsed": false,
    "ExecuteTime": {
     "end_time": "2023-07-16T02:18:14.750343Z",
     "start_time": "2023-07-16T02:18:14.677500Z"
    }
   }
  },
  {
   "cell_type": "code",
   "execution_count": 53,
   "outputs": [
    {
     "data": {
      "text/plain": "(891, 12)"
     },
     "execution_count": 53,
     "metadata": {},
     "output_type": "execute_result"
    }
   ],
   "source": [
    "df.shape"
   ],
   "metadata": {
    "collapsed": false,
    "ExecuteTime": {
     "end_time": "2023-07-16T03:25:13.874440Z",
     "start_time": "2023-07-16T03:25:13.849446Z"
    }
   }
  },
  {
   "cell_type": "code",
   "execution_count": 66,
   "outputs": [
    {
     "data": {
      "text/plain": "array([['male'],\n       ['female'],\n       ['female'],\n       ['female'],\n       ['male'],\n       ['male'],\n       ['male'],\n       ['male'],\n       ['female'],\n       ['female'],\n       ['female'],\n       ['female'],\n       ['male'],\n       ['male'],\n       ['female'],\n       ['female'],\n       ['male'],\n       ['male'],\n       ['female'],\n       ['female'],\n       ['male'],\n       ['male'],\n       ['female'],\n       ['male'],\n       ['female'],\n       ['female'],\n       ['male'],\n       ['male'],\n       ['female'],\n       ['male'],\n       ['male'],\n       ['female'],\n       ['female'],\n       ['male'],\n       ['male'],\n       ['male'],\n       ['male'],\n       ['male'],\n       ['female'],\n       ['female'],\n       ['female'],\n       ['female'],\n       ['male'],\n       ['female'],\n       ['female'],\n       ['male'],\n       ['male'],\n       ['female'],\n       ['male'],\n       ['female'],\n       ['male'],\n       ['male'],\n       ['female'],\n       ['female'],\n       ['male'],\n       ['male'],\n       ['female'],\n       ['male'],\n       ['female'],\n       ['male'],\n       ['male'],\n       ['female'],\n       ['male'],\n       ['male'],\n       ['male'],\n       ['male'],\n       ['female'],\n       ['male'],\n       ['female'],\n       ['male'],\n       ['male'],\n       ['female'],\n       ['male'],\n       ['male'],\n       ['male'],\n       ['male'],\n       ['male'],\n       ['male'],\n       ['male'],\n       ['female'],\n       ['male'],\n       ['male'],\n       ['female'],\n       ['male'],\n       ['female'],\n       ['female'],\n       ['male'],\n       ['male'],\n       ['female'],\n       ['male'],\n       ['male'],\n       ['male'],\n       ['male'],\n       ['male'],\n       ['male'],\n       ['male'],\n       ['male'],\n       ['male'],\n       ['female'],\n       ['male'],\n       ['female'],\n       ['male'],\n       ['male'],\n       ['male'],\n       ['male'],\n       ['male'],\n       ['female'],\n       ['male'],\n       ['male'],\n       ['female'],\n       ['male'],\n       ['female'],\n       ['male'],\n       ['female'],\n       ['female'],\n       ['male'],\n       ['male'],\n       ['male'],\n       ['male'],\n       ['female'],\n       ['male'],\n       ['male'],\n       ['male'],\n       ['female'],\n       ['male'],\n       ['male'],\n       ['male'],\n       ['male'],\n       ['female'],\n       ['male'],\n       ['male'],\n       ['male'],\n       ['female'],\n       ['female'],\n       ['male'],\n       ['male'],\n       ['female'],\n       ['male'],\n       ['male'],\n       ['male'],\n       ['female'],\n       ['female'],\n       ['female'],\n       ['male'],\n       ['male'],\n       ['male'],\n       ['male'],\n       ['female'],\n       ['male'],\n       ['male'],\n       ['male'],\n       ['female'],\n       ['male'],\n       ['male'],\n       ['male'],\n       ['male'],\n       ['female'],\n       ['male'],\n       ['male'],\n       ['male'],\n       ['male'],\n       ['female'],\n       ['male'],\n       ['male'],\n       ['male'],\n       ['male'],\n       ['female'],\n       ['female'],\n       ['male'],\n       ['male'],\n       ['male'],\n       ['male'],\n       ['female'],\n       ['male'],\n       ['male'],\n       ['male'],\n       ['male'],\n       ['female'],\n       ['male'],\n       ['male'],\n       ['female'],\n       ['male'],\n       ['male'],\n       ['male'],\n       ['female'],\n       ['male'],\n       ['female'],\n       ['male'],\n       ['male'],\n       ['male'],\n       ['female'],\n       ['male'],\n       ['female'],\n       ['male'],\n       ['female'],\n       ['female'],\n       ['male'],\n       ['male'],\n       ['female'],\n       ['female'],\n       ['male'],\n       ['male'],\n       ['male'],\n       ['male'],\n       ['male'],\n       ['female'],\n       ['male'],\n       ['male'],\n       ['female'],\n       ['male'],\n       ['male'],\n       ['female'],\n       ['male'],\n       ['male'],\n       ['male'],\n       ['female'],\n       ['female'],\n       ['male'],\n       ['female'],\n       ['male'],\n       ['male'],\n       ['male'],\n       ['male'],\n       ['male'],\n       ['male'],\n       ['male'],\n       ['male'],\n       ['male'],\n       ['male'],\n       ['female'],\n       ['female'],\n       ['male'],\n       ['male'],\n       ['female'],\n       ['male'],\n       ['female'],\n       ['male'],\n       ['female'],\n       ['male'],\n       ['male'],\n       ['female'],\n       ['female'],\n       ['male'],\n       ['male'],\n       ['male'],\n       ['male'],\n       ['female'],\n       ['female'],\n       ['male'],\n       ['male'],\n       ['male'],\n       ['female'],\n       ['male'],\n       ['male'],\n       ['female'],\n       ['female'],\n       ['female'],\n       ['female'],\n       ['female'],\n       ['female'],\n       ['male'],\n       ['male'],\n       ['male'],\n       ['male'],\n       ['female'],\n       ['male'],\n       ['male'],\n       ['male'],\n       ['female'],\n       ['female'],\n       ['male'],\n       ['male'],\n       ['female'],\n       ['male'],\n       ['female'],\n       ['female'],\n       ['female'],\n       ['male'],\n       ['male'],\n       ['female'],\n       ['male'],\n       ['male'],\n       ['male'],\n       ['male'],\n       ['male'],\n       ['male'],\n       ['male'],\n       ['male'],\n       ['male'],\n       ['female'],\n       ['female'],\n       ['female'],\n       ['male'],\n       ['female'],\n       ['male'],\n       ['male'],\n       ['male'],\n       ['female'],\n       ['male'],\n       ['female'],\n       ['female'],\n       ['male'],\n       ['male'],\n       ['female'],\n       ['male'],\n       ['male'],\n       ['female'],\n       ['female'],\n       ['male'],\n       ['female'],\n       ['female'],\n       ['female'],\n       ['female'],\n       ['male'],\n       ['male'],\n       ['female'],\n       ['female'],\n       ['male'],\n       ['female'],\n       ['female'],\n       ['male'],\n       ['male'],\n       ['female'],\n       ['female'],\n       ['male'],\n       ['female'],\n       ['male'],\n       ['female'],\n       ['female'],\n       ['female'],\n       ['female'],\n       ['male'],\n       ['male'],\n       ['male'],\n       ['female'],\n       ['male'],\n       ['male'],\n       ['female'],\n       ['male'],\n       ['male'],\n       ['male'],\n       ['female'],\n       ['male'],\n       ['male'],\n       ['male'],\n       ['female'],\n       ['female'],\n       ['female'],\n       ['male'],\n       ['male'],\n       ['male'],\n       ['male'],\n       ['male'],\n       ['male'],\n       ['male'],\n       ['male'],\n       ['female'],\n       ['female'],\n       ['female'],\n       ['female'],\n       ['male'],\n       ['male'],\n       ['female'],\n       ['male'],\n       ['male'],\n       ['male'],\n       ['female'],\n       ['female'],\n       ['female'],\n       ['female'],\n       ['male'],\n       ['male'],\n       ['male'],\n       ['male'],\n       ['female'],\n       ['female'],\n       ['female'],\n       ['male'],\n       ['male'],\n       ['male'],\n       ['female'],\n       ['female'],\n       ['male'],\n       ['female'],\n       ['male'],\n       ['male'],\n       ['male'],\n       ['female'],\n       ['male'],\n       ['female'],\n       ['male'],\n       ['male'],\n       ['male'],\n       ['female'],\n       ['female'],\n       ['male'],\n       ['female'],\n       ['male'],\n       ['male'],\n       ['female'],\n       ['male'],\n       ['male'],\n       ['female'],\n       ['male'],\n       ['female'],\n       ['male'],\n       ['male'],\n       ['male'],\n       ['male'],\n       ['female'],\n       ['male'],\n       ['male'],\n       ['female'],\n       ['male'],\n       ['male'],\n       ['female'],\n       ['female'],\n       ['female'],\n       ['male'],\n       ['female'],\n       ['male'],\n       ['male'],\n       ['male'],\n       ['female'],\n       ['male'],\n       ['male'],\n       ['female'],\n       ['female'],\n       ['male'],\n       ['male'],\n       ['male'],\n       ['female'],\n       ['female'],\n       ['male'],\n       ['male'],\n       ['female'],\n       ['female'],\n       ['female'],\n       ['male'],\n       ['male'],\n       ['female'],\n       ['male'],\n       ['male'],\n       ['female'],\n       ['male'],\n       ['male'],\n       ['female'],\n       ['male'],\n       ['female'],\n       ['male'],\n       ['male'],\n       ['male'],\n       ['male'],\n       ['male'],\n       ['male'],\n       ['male'],\n       ['male'],\n       ['female'],\n       ['female'],\n       ['male'],\n       ['male'],\n       ['male'],\n       ['male'],\n       ['male'],\n       ['male'],\n       ['male'],\n       ['male'],\n       ['male'],\n       ['male'],\n       ['female'],\n       ['male'],\n       ['male'],\n       ['female'],\n       ['female'],\n       ['female'],\n       ['male'],\n       ['male'],\n       ['male'],\n       ['male'],\n       ['female'],\n       ['male'],\n       ['male'],\n       ['male'],\n       ['female'],\n       ['male'],\n       ['female'],\n       ['female'],\n       ['male'],\n       ['male'],\n       ['male'],\n       ['male'],\n       ['male'],\n       ['male'],\n       ['male'],\n       ['male'],\n       ['male'],\n       ['female'],\n       ['male'],\n       ['female'],\n       ['male'],\n       ['male'],\n       ['female'],\n       ['female'],\n       ['female'],\n       ['female'],\n       ['male'],\n       ['female'],\n       ['male'],\n       ['male'],\n       ['male'],\n       ['male'],\n       ['male'],\n       ['male'],\n       ['female'],\n       ['male'],\n       ['male'],\n       ['female'],\n       ['male'],\n       ['female'],\n       ['male'],\n       ['female'],\n       ['male'],\n       ['male'],\n       ['female'],\n       ['male'],\n       ['male'],\n       ['female'],\n       ['male'],\n       ['male'],\n       ['male'],\n       ['female'],\n       ['male'],\n       ['male'],\n       ['female'],\n       ['female'],\n       ['female'],\n       ['male'],\n       ['female'],\n       ['male'],\n       ['female'],\n       ['female'],\n       ['female'],\n       ['female'],\n       ['male'],\n       ['male'],\n       ['male'],\n       ['female'],\n       ['male'],\n       ['male'],\n       ['male'],\n       ['male'],\n       ['male'],\n       ['male'],\n       ['male'],\n       ['female'],\n       ['male'],\n       ['female'],\n       ['male'],\n       ['female'],\n       ['female'],\n       ['male'],\n       ['male'],\n       ['male'],\n       ['male'],\n       ['female'],\n       ['male'],\n       ['male'],\n       ['female'],\n       ['male'],\n       ['male'],\n       ['male'],\n       ['female'],\n       ['male'],\n       ['female'],\n       ['male'],\n       ['male'],\n       ['female'],\n       ['female'],\n       ['female'],\n       ['male'],\n       ['female'],\n       ['female'],\n       ['male'],\n       ['male'],\n       ['male'],\n       ['female'],\n       ['male'],\n       ['male'],\n       ['male'],\n       ['male'],\n       ['male'],\n       ['female'],\n       ['male'],\n       ['female'],\n       ['male'],\n       ['male'],\n       ['female'],\n       ['male'],\n       ['male'],\n       ['male'],\n       ['female'],\n       ['male'],\n       ['male'],\n       ['male'],\n       ['male'],\n       ['male'],\n       ['male'],\n       ['male'],\n       ['female'],\n       ['female'],\n       ['female'],\n       ['male'],\n       ['female'],\n       ['male'],\n       ['male'],\n       ['female'],\n       ['male'],\n       ['female'],\n       ['female'],\n       ['male'],\n       ['male'],\n       ['male'],\n       ['male'],\n       ['male'],\n       ['male'],\n       ['male'],\n       ['male'],\n       ['female'],\n       ['male'],\n       ['male'],\n       ['male'],\n       ['male'],\n       ['male'],\n       ['male'],\n       ['female'],\n       ['female'],\n       ['male'],\n       ['male'],\n       ['female'],\n       ['male'],\n       ['male'],\n       ['female'],\n       ['female'],\n       ['male'],\n       ['female'],\n       ['male'],\n       ['male'],\n       ['male'],\n       ['male'],\n       ['female'],\n       ['male'],\n       ['female'],\n       ['male'],\n       ['female'],\n       ['female'],\n       ['male'],\n       ['male'],\n       ['female'],\n       ['male'],\n       ['male'],\n       ['male'],\n       ['male'],\n       ['male'],\n       ['male'],\n       ['male'],\n       ['male'],\n       ['male'],\n       ['male'],\n       ['male'],\n       ['female'],\n       ['female'],\n       ['male'],\n       ['male'],\n       ['male'],\n       ['male'],\n       ['male'],\n       ['male'],\n       ['female'],\n       ['female'],\n       ['male'],\n       ['female'],\n       ['male'],\n       ['male'],\n       ['male'],\n       ['male'],\n       ['male'],\n       ['male'],\n       ['male'],\n       ['male'],\n       ['female'],\n       ['male'],\n       ['female'],\n       ['male'],\n       ['male'],\n       ['male'],\n       ['male'],\n       ['male'],\n       ['female'],\n       ['male'],\n       ['male'],\n       ['female'],\n       ['male'],\n       ['female'],\n       ['male'],\n       ['male'],\n       ['male'],\n       ['female'],\n       ['male'],\n       ['female'],\n       ['male'],\n       ['female'],\n       ['male'],\n       ['male'],\n       ['male'],\n       ['male'],\n       ['male'],\n       ['female'],\n       ['female'],\n       ['male'],\n       ['male'],\n       ['female'],\n       ['male'],\n       ['male'],\n       ['male'],\n       ['male'],\n       ['male'],\n       ['female'],\n       ['female'],\n       ['male'],\n       ['female'],\n       ['female'],\n       ['male'],\n       ['male'],\n       ['male'],\n       ['male'],\n       ['male'],\n       ['female'],\n       ['male'],\n       ['male'],\n       ['male'],\n       ['male'],\n       ['male'],\n       ['female'],\n       ['male'],\n       ['male'],\n       ['male'],\n       ['male'],\n       ['female'],\n       ['male'],\n       ['male'],\n       ['female'],\n       ['male'],\n       ['male'],\n       ['male'],\n       ['female'],\n       ['male'],\n       ['male'],\n       ['male'],\n       ['male'],\n       ['female'],\n       ['male'],\n       ['male'],\n       ['male'],\n       ['female'],\n       ['male'],\n       ['female'],\n       ['male'],\n       ['female'],\n       ['male'],\n       ['male'],\n       ['male'],\n       ['male'],\n       ['female'],\n       ['male'],\n       ['female'],\n       ['male'],\n       ['male'],\n       ['female'],\n       ['male'],\n       ['female'],\n       ['female'],\n       ['female'],\n       ['male'],\n       ['male'],\n       ['male'],\n       ['male'],\n       ['female'],\n       ['male'],\n       ['male'],\n       ['male'],\n       ['male'],\n       ['male'],\n       ['female'],\n       ['male'],\n       ['male'],\n       ['male'],\n       ['female'],\n       ['female'],\n       ['male'],\n       ['female'],\n       ['male'],\n       ['female'],\n       ['male'],\n       ['male'],\n       ['male'],\n       ['male'],\n       ['male'],\n       ['female'],\n       ['male'],\n       ['female'],\n       ['male'],\n       ['male'],\n       ['male'],\n       ['female'],\n       ['male'],\n       ['male'],\n       ['female'],\n       ['male'],\n       ['male'],\n       ['male'],\n       ['female'],\n       ['male'],\n       ['male'],\n       ['female'],\n       ['male'],\n       ['male'],\n       ['male'],\n       ['male'],\n       ['male'],\n       ['female'],\n       ['female'],\n       ['male'],\n       ['male'],\n       ['male'],\n       ['male'],\n       ['female'],\n       ['male'],\n       ['male'],\n       ['male'],\n       ['male'],\n       ['male'],\n       ['male'],\n       ['female'],\n       ['male'],\n       ['male'],\n       ['male'],\n       ['male'],\n       ['male'],\n       ['male'],\n       ['female'],\n       ['male'],\n       ['male'],\n       ['female'],\n       ['female'],\n       ['female'],\n       ['female'],\n       ['female'],\n       ['male'],\n       ['female'],\n       ['male'],\n       ['male'],\n       ['male'],\n       ['female'],\n       ['female'],\n       ['male'],\n       ['female'],\n       ['female'],\n       ['male'],\n       ['male'],\n       ['male'],\n       ['male'],\n       ['female'],\n       ['male'],\n       ['male'],\n       ['female'],\n       ['female'],\n       ['male'],\n       ['male'],\n       ['male'],\n       ['female'],\n       ['female'],\n       ['male'],\n       ['female'],\n       ['male'],\n       ['male'],\n       ['female'],\n       ['male'],\n       ['female'],\n       ['female'],\n       ['male'],\n       ['male']], dtype=object)"
     },
     "execution_count": 66,
     "metadata": {},
     "output_type": "execute_result"
    }
   ],
   "source": [
    "# Features predict the dependent variable\n",
    "# X = df.iloc[:, [4,8,10]].values\n",
    "X = df.iloc[:, [4]].values\n",
    "X"
   ],
   "metadata": {
    "collapsed": false,
    "ExecuteTime": {
     "end_time": "2023-07-16T03:28:41.838652Z",
     "start_time": "2023-07-16T03:28:41.827536Z"
    }
   }
  },
  {
   "cell_type": "code",
   "execution_count": 43,
   "outputs": [
    {
     "data": {
      "text/plain": "array([0, 1, 1, 1, 0, 0, 0, 0, 1, 1, 1, 1, 0, 0, 0, 1, 0, 1, 0, 1, 0, 1,\n       1, 1, 0, 1, 0, 0, 1, 0, 0, 1, 1, 0, 0, 0, 1, 0, 0, 1, 0, 0, 0, 1,\n       1, 0, 0, 1, 0, 0, 0, 0, 1, 1, 0, 1, 1, 0, 1, 0, 0, 1, 0, 0, 0, 1,\n       1, 0, 1, 0, 0, 0, 0, 0, 1, 0, 0, 0, 1, 1, 0, 1, 1, 0, 1, 1, 0, 0,\n       1, 0, 0, 0, 0, 0, 0, 0, 0, 1, 1, 0, 0, 0, 0, 0, 0, 0, 1, 1, 0, 1,\n       0, 0, 0, 0, 0, 0, 0, 0, 0, 0, 0, 0, 0, 1, 0, 1, 0, 1, 1, 0, 0, 0,\n       0, 1, 0, 0, 1, 0, 0, 0, 0, 1, 1, 0, 0, 0, 1, 0, 0, 0, 0, 1, 0, 0,\n       0, 0, 1, 0, 0, 0, 0, 1, 0, 0, 0, 1, 1, 0, 0, 0, 0, 0, 1, 0, 0, 0,\n       0, 0, 0, 0, 0, 0, 0, 1, 1, 0, 1, 1, 0, 0, 1, 0, 1, 1, 1, 1, 0, 0,\n       1, 0, 0, 0, 0, 0, 1, 0, 0, 1, 1, 1, 0, 1, 0, 0, 0, 1, 1, 0, 1, 0,\n       1, 0, 0, 0, 1, 0, 1, 0, 0, 0, 1, 0, 0, 1, 0, 0, 0, 1, 0, 0, 0, 1,\n       0, 0, 0, 0, 0, 1, 1, 0, 0, 0, 0, 0, 0, 1, 1, 1, 1, 1, 0, 1, 0, 0,\n       0, 0, 0, 1, 1, 1, 0, 1, 1, 0, 1, 1, 0, 0, 0, 1, 0, 0, 0, 1, 0, 0,\n       1, 0, 1, 1, 1, 1, 0, 0, 0, 0, 0, 0, 1, 1, 1, 1, 0, 1, 0, 1, 1, 1,\n       0, 1, 1, 1, 0, 0, 0, 1, 1, 0, 1, 1, 0, 0, 1, 1, 0, 1, 0, 1, 1, 1,\n       1, 0, 0, 0, 1, 0, 0, 1, 1, 0, 1, 1, 0, 0, 0, 1, 1, 1, 1, 0, 0, 0,\n       0, 0, 0, 0, 1, 0, 1, 1, 0, 0, 0, 0, 0, 0, 1, 1, 1, 1, 1, 0, 0, 0,\n       0, 1, 1, 0, 0, 0, 1, 1, 0, 1, 0, 0, 0, 1, 0, 1, 1, 1, 0, 1, 1, 0,\n       0, 0, 0, 1, 1, 0, 0, 0, 0, 0, 0, 1, 0, 0, 0, 0, 1, 0, 1, 0, 1, 1,\n       0, 0, 0, 0, 0, 0, 0, 0, 1, 1, 0, 1, 1, 1, 1, 0, 0, 1, 0, 1, 0, 0,\n       1, 0, 0, 1, 1, 1, 1, 1, 1, 1, 0, 0, 0, 1, 0, 1, 0, 1, 1, 0, 1, 0,\n       0, 0, 0, 0, 0, 0, 0, 1, 0, 0, 1, 1, 0, 0, 0, 0, 0, 1, 0, 0, 0, 1,\n       1, 0, 1, 0, 0, 1, 0, 0, 0, 0, 0, 0, 1, 0, 0, 0, 0, 0, 0, 0, 1, 0,\n       1, 1, 0, 1, 1, 0, 1, 1, 0, 0, 1, 0, 1, 0, 1, 0, 0, 1, 0, 0, 1, 0,\n       0, 0, 1, 0, 0, 1, 0, 1, 0, 1, 0, 1, 1, 0, 0, 1, 0, 0, 1, 1, 0, 1,\n       1, 0, 0, 1, 1, 0, 1, 0, 1, 1, 0, 0, 0, 0, 0, 0, 0, 0, 0, 1, 1, 1,\n       1, 1, 0, 0, 1, 1, 0, 1, 1, 1, 0, 0, 0, 1, 0, 1, 0, 0, 0, 1, 0, 0,\n       0, 0, 1, 0, 0, 1, 1, 0, 0, 0, 1, 0, 0, 1, 1, 1, 0, 0, 1, 0, 0, 1,\n       0, 0, 1, 0, 0, 1, 1, 0, 0, 0, 0, 1, 0, 0, 1, 0, 1, 0, 0, 1, 0, 0,\n       0, 0, 0, 1, 0, 1, 1, 1, 0, 1, 0, 1, 0, 1, 0, 1, 0, 0, 0, 0, 0, 0,\n       1, 0, 0, 0, 1, 0, 0, 0, 0, 1, 1, 0, 0, 1, 0, 0, 0, 1, 0, 1, 0, 1,\n       0, 0, 0, 0, 0, 0, 0, 1, 1, 1, 1, 0, 0, 0, 0, 1, 0, 0, 1, 1, 0, 0,\n       0, 0, 1, 1, 1, 1, 1, 0, 1, 0, 0, 0, 1, 1, 0, 0, 1, 0, 0, 0, 1, 0,\n       1, 1, 0, 0, 1, 0, 0, 0, 0, 0, 0, 1, 0, 0, 1, 0, 1, 0, 1, 0, 0, 1,\n       0, 0, 1, 1, 0, 0, 1, 1, 0, 0, 0, 1, 0, 0, 1, 1, 0, 1, 0, 0, 0, 0,\n       0, 0, 0, 0, 1, 0, 0, 1, 0, 1, 1, 1, 0, 0, 0, 0, 1, 0, 1, 0, 0, 0,\n       0, 0, 0, 0, 1, 1, 0, 0, 0, 1, 1, 1, 1, 0, 0, 0, 0, 1, 0, 0, 0, 0,\n       0, 0, 0, 0, 0, 0, 1, 1, 0, 1, 0, 0, 0, 1, 1, 1, 1, 1, 0, 0, 0, 1,\n       0, 0, 1, 1, 0, 0, 1, 0, 0, 0, 0, 0, 0, 1, 0, 0, 0, 1, 0, 1, 1, 1,\n       1, 0, 0, 0, 1, 0, 0, 1, 1, 0, 0, 1, 0, 1, 0, 0, 1, 1, 0, 0, 0, 1,\n       1, 0, 0, 0, 0, 0, 0, 1, 0, 1, 0])"
     },
     "execution_count": 43,
     "metadata": {},
     "output_type": "execute_result"
    }
   ],
   "source": [
    "# Where the variable is Purchased (Usually last column of the dataset)\n",
    "Y = df.iloc[:,1].values\n",
    "Y"
   ],
   "metadata": {
    "collapsed": false,
    "ExecuteTime": {
     "end_time": "2023-07-16T03:20:24.769770Z",
     "start_time": "2023-07-16T03:20:24.762475Z"
    }
   }
  },
  {
   "cell_type": "code",
   "execution_count": 56,
   "outputs": [],
   "source": [
    "# Identify the categorical data (Independent variable) - sex, ticket, cabin, embarked\n",
    "# ColumnTransformer - is a class taking the two arguments of\n",
    "# transformed, what kind of transformation and index, 2nd argument is the remainder, which specifies which columns to keep to not be tranformed.\n",
    "# OneHotEncoder -\n",
    "from sklearn.compose import ColumnTransformer\n",
    "from sklearn.preprocessing import OneHotEncoder"
   ],
   "metadata": {
    "collapsed": false,
    "ExecuteTime": {
     "end_time": "2023-07-16T03:25:56.874630Z",
     "start_time": "2023-07-16T03:25:56.860706Z"
    }
   }
  },
  {
   "cell_type": "code",
   "execution_count": 67,
   "outputs": [],
   "source": [
    "# Implement an instance of the ColumnTransformer class\n",
    "ct = ColumnTransformer(transformers=[('encoder', OneHotEncoder(), [0])], remainder='passthrough')"
   ],
   "metadata": {
    "collapsed": false,
    "ExecuteTime": {
     "end_time": "2023-07-16T03:28:45.644211Z",
     "start_time": "2023-07-16T03:28:45.637139Z"
    }
   }
  },
  {
   "cell_type": "code",
   "execution_count": 68,
   "outputs": [],
   "source": [
    "# Apply the fit_transform method on the instance of ColumnTransformer\n",
    "X = np.array(ct.fit_transform(X))"
   ],
   "metadata": {
    "collapsed": false,
    "ExecuteTime": {
     "end_time": "2023-07-16T03:28:46.459905Z",
     "start_time": "2023-07-16T03:28:46.452124Z"
    }
   }
  },
  {
   "cell_type": "code",
   "execution_count": 69,
   "outputs": [
    {
     "name": "stdout",
     "output_type": "stream",
     "text": [
      "[[0. 1.]\n",
      " [1. 0.]\n",
      " [1. 0.]\n",
      " ...\n",
      " [1. 0.]\n",
      " [0. 1.]\n",
      " [0. 1.]]\n"
     ]
    }
   ],
   "source": [
    "# Convert the output into a NumPy array\n",
    "print(X)"
   ],
   "metadata": {
    "collapsed": false,
    "ExecuteTime": {
     "end_time": "2023-07-16T03:28:52.261082Z",
     "start_time": "2023-07-16T03:28:52.250980Z"
    }
   }
  },
  {
   "cell_type": "code",
   "execution_count": 70,
   "outputs": [],
   "source": [
    "# Use LabelEncoder to encode binary categorical data\n",
    "from sklearn.preprocessing import LabelEncoder"
   ],
   "metadata": {
    "collapsed": false,
    "ExecuteTime": {
     "end_time": "2023-07-16T03:29:24.925564Z",
     "start_time": "2023-07-16T03:29:24.918613Z"
    }
   }
  },
  {
   "cell_type": "code",
   "execution_count": 71,
   "outputs": [],
   "source": [
    "le = LabelEncoder()"
   ],
   "metadata": {
    "collapsed": false,
    "ExecuteTime": {
     "end_time": "2023-07-16T03:29:46.940927Z",
     "start_time": "2023-07-16T03:29:46.930285Z"
    }
   }
  },
  {
   "cell_type": "code",
   "execution_count": 72,
   "outputs": [],
   "source": [
    "# transform the Y values\n",
    "Y = le.fit_transform(Y)"
   ],
   "metadata": {
    "collapsed": false,
    "ExecuteTime": {
     "end_time": "2023-07-16T03:29:48.375511Z",
     "start_time": "2023-07-16T03:29:48.369162Z"
    }
   }
  },
  {
   "cell_type": "code",
   "execution_count": 73,
   "outputs": [
    {
     "name": "stdout",
     "output_type": "stream",
     "text": [
      "[0 1 1 1 0 0 0 0 1 1 1 1 0 0 0 1 0 1 0 1 0 1 1 1 0 1 0 0 1 0 0 1 1 0 0 0 1\n",
      " 0 0 1 0 0 0 1 1 0 0 1 0 0 0 0 1 1 0 1 1 0 1 0 0 1 0 0 0 1 1 0 1 0 0 0 0 0\n",
      " 1 0 0 0 1 1 0 1 1 0 1 1 0 0 1 0 0 0 0 0 0 0 0 1 1 0 0 0 0 0 0 0 1 1 0 1 0\n",
      " 0 0 0 0 0 0 0 0 0 0 0 0 1 0 1 0 1 1 0 0 0 0 1 0 0 1 0 0 0 0 1 1 0 0 0 1 0\n",
      " 0 0 0 1 0 0 0 0 1 0 0 0 0 1 0 0 0 1 1 0 0 0 0 0 1 0 0 0 0 0 0 0 0 0 0 1 1\n",
      " 0 1 1 0 0 1 0 1 1 1 1 0 0 1 0 0 0 0 0 1 0 0 1 1 1 0 1 0 0 0 1 1 0 1 0 1 0\n",
      " 0 0 1 0 1 0 0 0 1 0 0 1 0 0 0 1 0 0 0 1 0 0 0 0 0 1 1 0 0 0 0 0 0 1 1 1 1\n",
      " 1 0 1 0 0 0 0 0 1 1 1 0 1 1 0 1 1 0 0 0 1 0 0 0 1 0 0 1 0 1 1 1 1 0 0 0 0\n",
      " 0 0 1 1 1 1 0 1 0 1 1 1 0 1 1 1 0 0 0 1 1 0 1 1 0 0 1 1 0 1 0 1 1 1 1 0 0\n",
      " 0 1 0 0 1 1 0 1 1 0 0 0 1 1 1 1 0 0 0 0 0 0 0 1 0 1 1 0 0 0 0 0 0 1 1 1 1\n",
      " 1 0 0 0 0 1 1 0 0 0 1 1 0 1 0 0 0 1 0 1 1 1 0 1 1 0 0 0 0 1 1 0 0 0 0 0 0\n",
      " 1 0 0 0 0 1 0 1 0 1 1 0 0 0 0 0 0 0 0 1 1 0 1 1 1 1 0 0 1 0 1 0 0 1 0 0 1\n",
      " 1 1 1 1 1 1 0 0 0 1 0 1 0 1 1 0 1 0 0 0 0 0 0 0 0 1 0 0 1 1 0 0 0 0 0 1 0\n",
      " 0 0 1 1 0 1 0 0 1 0 0 0 0 0 0 1 0 0 0 0 0 0 0 1 0 1 1 0 1 1 0 1 1 0 0 1 0\n",
      " 1 0 1 0 0 1 0 0 1 0 0 0 1 0 0 1 0 1 0 1 0 1 1 0 0 1 0 0 1 1 0 1 1 0 0 1 1\n",
      " 0 1 0 1 1 0 0 0 0 0 0 0 0 0 1 1 1 1 1 0 0 1 1 0 1 1 1 0 0 0 1 0 1 0 0 0 1\n",
      " 0 0 0 0 1 0 0 1 1 0 0 0 1 0 0 1 1 1 0 0 1 0 0 1 0 0 1 0 0 1 1 0 0 0 0 1 0\n",
      " 0 1 0 1 0 0 1 0 0 0 0 0 1 0 1 1 1 0 1 0 1 0 1 0 1 0 0 0 0 0 0 1 0 0 0 1 0\n",
      " 0 0 0 1 1 0 0 1 0 0 0 1 0 1 0 1 0 0 0 0 0 0 0 1 1 1 1 0 0 0 0 1 0 0 1 1 0\n",
      " 0 0 0 1 1 1 1 1 0 1 0 0 0 1 1 0 0 1 0 0 0 1 0 1 1 0 0 1 0 0 0 0 0 0 1 0 0\n",
      " 1 0 1 0 1 0 0 1 0 0 1 1 0 0 1 1 0 0 0 1 0 0 1 1 0 1 0 0 0 0 0 0 0 0 1 0 0\n",
      " 1 0 1 1 1 0 0 0 0 1 0 1 0 0 0 0 0 0 0 1 1 0 0 0 1 1 1 1 0 0 0 0 1 0 0 0 0\n",
      " 0 0 0 0 0 0 1 1 0 1 0 0 0 1 1 1 1 1 0 0 0 1 0 0 1 1 0 0 1 0 0 0 0 0 0 1 0\n",
      " 0 0 1 0 1 1 1 1 0 0 0 1 0 0 1 1 0 0 1 0 1 0 0 1 1 0 0 0 1 1 0 0 0 0 0 0 1\n",
      " 0 1 0]\n"
     ]
    }
   ],
   "source": [
    "print(Y)"
   ],
   "metadata": {
    "collapsed": false,
    "ExecuteTime": {
     "end_time": "2023-07-16T03:29:49.340579Z",
     "start_time": "2023-07-16T03:29:49.330702Z"
    }
   }
  },
  {
   "cell_type": "code",
   "execution_count": 19,
   "outputs": [],
   "source": [
    "# Print the updated matrix of features and the dependent variable vector (Survived)\n",
    "# go back to lecture for this one."
   ],
   "metadata": {
    "collapsed": false,
    "ExecuteTime": {
     "end_time": "2023-07-16T02:18:14.838821Z",
     "start_time": "2023-07-16T02:18:14.763105Z"
    }
   }
  }
 ],
 "metadata": {
  "kernelspec": {
   "display_name": "Python 3",
   "language": "python",
   "name": "python3"
  },
  "language_info": {
   "codemirror_mode": {
    "name": "ipython",
    "version": 2
   },
   "file_extension": ".py",
   "mimetype": "text/x-python",
   "name": "python",
   "nbconvert_exporter": "python",
   "pygments_lexer": "ipython2",
   "version": "2.7.6"
  }
 },
 "nbformat": 4,
 "nbformat_minor": 0
}
